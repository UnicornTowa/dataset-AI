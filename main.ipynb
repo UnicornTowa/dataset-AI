{
 "cells": [
  {
   "cell_type": "code",
   "execution_count": 28,
   "metadata": {
    "collapsed": true,
    "ExecuteTime": {
     "start_time": "2023-05-03T01:58:49.542183Z",
     "end_time": "2023-05-03T01:58:49.903928Z"
    }
   },
   "outputs": [],
   "source": [
    "import numpy as np\n",
    "import pandas as pd\n",
    "import seaborn as sns\n",
    "import scipy\n",
    "from matplotlib import pyplot as plt"
   ]
  },
  {
   "cell_type": "code",
   "execution_count": 29,
   "outputs": [],
   "source": [
    "df = pd.read_csv('vehicles.csv')"
   ],
   "metadata": {
    "collapsed": false,
    "ExecuteTime": {
     "start_time": "2023-05-03T01:58:49.557810Z",
     "end_time": "2023-05-03T01:59:17.498645Z"
    }
   }
  },
  {
   "cell_type": "code",
   "execution_count": 30,
   "outputs": [
    {
     "data": {
      "text/plain": "                id                                                url  \\\n426875  7301591192  https://wyoming.craigslist.org/ctd/d/atlanta-2...   \n426876  7301591187  https://wyoming.craigslist.org/ctd/d/atlanta-2...   \n426877  7301591147  https://wyoming.craigslist.org/ctd/d/atlanta-2...   \n426878  7301591140  https://wyoming.craigslist.org/ctd/d/atlanta-2...   \n426879  7301591129  https://wyoming.craigslist.org/ctd/d/atlanta-2...   \n\n         region                      region_url  price    year manufacturer  \\\n426875  wyoming  https://wyoming.craigslist.org  23590  2019.0       nissan   \n426876  wyoming  https://wyoming.craigslist.org  30590  2020.0        volvo   \n426877  wyoming  https://wyoming.craigslist.org  34990  2020.0     cadillac   \n426878  wyoming  https://wyoming.craigslist.org  28990  2018.0        lexus   \n426879  wyoming  https://wyoming.craigslist.org  30590  2019.0          bmw   \n\n                           model condition    cylinders  ... size       type  \\\n426875         maxima s sedan 4d      good  6 cylinders  ...  NaN      sedan   \n426876  s60 t5 momentum sedan 4d      good          NaN  ...  NaN      sedan   \n426877          xt4 sport suv 4d      good          NaN  ...  NaN  hatchback   \n426878           es 350 sedan 4d      good  6 cylinders  ...  NaN      sedan   \n426879  4 series 430i gran coupe      good          NaN  ...  NaN      coupe   \n\n       paint_color                                          image_url  \\\n426875         NaN  https://images.craigslist.org/00o0o_iiraFnHg8q...   \n426876         red  https://images.craigslist.org/00x0x_15sbgnxCIS...   \n426877       white  https://images.craigslist.org/00L0L_farM7bxnxR...   \n426878      silver  https://images.craigslist.org/00z0z_bKnIVGLkDT...   \n426879         NaN  https://images.craigslist.org/00Y0Y_lEUocjyRxa...   \n\n                                              description county state  \\\n426875  Carvana is the safer way to buy a car During t...    NaN    wy   \n426876  Carvana is the safer way to buy a car During t...    NaN    wy   \n426877  Carvana is the safer way to buy a car During t...    NaN    wy   \n426878  Carvana is the safer way to buy a car During t...    NaN    wy   \n426879  Carvana is the safer way to buy a car During t...    NaN    wy   \n\n              lat       long              posting_date  \n426875  33.786500 -84.445400  2021-04-04T03:21:31-0600  \n426876  33.786500 -84.445400  2021-04-04T03:21:29-0600  \n426877  33.779214 -84.411811  2021-04-04T03:21:17-0600  \n426878  33.786500 -84.445400  2021-04-04T03:21:11-0600  \n426879  33.779214 -84.411811  2021-04-04T03:21:07-0600  \n\n[5 rows x 26 columns]",
      "text/html": "<div>\n<style scoped>\n    .dataframe tbody tr th:only-of-type {\n        vertical-align: middle;\n    }\n\n    .dataframe tbody tr th {\n        vertical-align: top;\n    }\n\n    .dataframe thead th {\n        text-align: right;\n    }\n</style>\n<table border=\"1\" class=\"dataframe\">\n  <thead>\n    <tr style=\"text-align: right;\">\n      <th></th>\n      <th>id</th>\n      <th>url</th>\n      <th>region</th>\n      <th>region_url</th>\n      <th>price</th>\n      <th>year</th>\n      <th>manufacturer</th>\n      <th>model</th>\n      <th>condition</th>\n      <th>cylinders</th>\n      <th>...</th>\n      <th>size</th>\n      <th>type</th>\n      <th>paint_color</th>\n      <th>image_url</th>\n      <th>description</th>\n      <th>county</th>\n      <th>state</th>\n      <th>lat</th>\n      <th>long</th>\n      <th>posting_date</th>\n    </tr>\n  </thead>\n  <tbody>\n    <tr>\n      <th>426875</th>\n      <td>7301591192</td>\n      <td>https://wyoming.craigslist.org/ctd/d/atlanta-2...</td>\n      <td>wyoming</td>\n      <td>https://wyoming.craigslist.org</td>\n      <td>23590</td>\n      <td>2019.0</td>\n      <td>nissan</td>\n      <td>maxima s sedan 4d</td>\n      <td>good</td>\n      <td>6 cylinders</td>\n      <td>...</td>\n      <td>NaN</td>\n      <td>sedan</td>\n      <td>NaN</td>\n      <td>https://images.craigslist.org/00o0o_iiraFnHg8q...</td>\n      <td>Carvana is the safer way to buy a car During t...</td>\n      <td>NaN</td>\n      <td>wy</td>\n      <td>33.786500</td>\n      <td>-84.445400</td>\n      <td>2021-04-04T03:21:31-0600</td>\n    </tr>\n    <tr>\n      <th>426876</th>\n      <td>7301591187</td>\n      <td>https://wyoming.craigslist.org/ctd/d/atlanta-2...</td>\n      <td>wyoming</td>\n      <td>https://wyoming.craigslist.org</td>\n      <td>30590</td>\n      <td>2020.0</td>\n      <td>volvo</td>\n      <td>s60 t5 momentum sedan 4d</td>\n      <td>good</td>\n      <td>NaN</td>\n      <td>...</td>\n      <td>NaN</td>\n      <td>sedan</td>\n      <td>red</td>\n      <td>https://images.craigslist.org/00x0x_15sbgnxCIS...</td>\n      <td>Carvana is the safer way to buy a car During t...</td>\n      <td>NaN</td>\n      <td>wy</td>\n      <td>33.786500</td>\n      <td>-84.445400</td>\n      <td>2021-04-04T03:21:29-0600</td>\n    </tr>\n    <tr>\n      <th>426877</th>\n      <td>7301591147</td>\n      <td>https://wyoming.craigslist.org/ctd/d/atlanta-2...</td>\n      <td>wyoming</td>\n      <td>https://wyoming.craigslist.org</td>\n      <td>34990</td>\n      <td>2020.0</td>\n      <td>cadillac</td>\n      <td>xt4 sport suv 4d</td>\n      <td>good</td>\n      <td>NaN</td>\n      <td>...</td>\n      <td>NaN</td>\n      <td>hatchback</td>\n      <td>white</td>\n      <td>https://images.craigslist.org/00L0L_farM7bxnxR...</td>\n      <td>Carvana is the safer way to buy a car During t...</td>\n      <td>NaN</td>\n      <td>wy</td>\n      <td>33.779214</td>\n      <td>-84.411811</td>\n      <td>2021-04-04T03:21:17-0600</td>\n    </tr>\n    <tr>\n      <th>426878</th>\n      <td>7301591140</td>\n      <td>https://wyoming.craigslist.org/ctd/d/atlanta-2...</td>\n      <td>wyoming</td>\n      <td>https://wyoming.craigslist.org</td>\n      <td>28990</td>\n      <td>2018.0</td>\n      <td>lexus</td>\n      <td>es 350 sedan 4d</td>\n      <td>good</td>\n      <td>6 cylinders</td>\n      <td>...</td>\n      <td>NaN</td>\n      <td>sedan</td>\n      <td>silver</td>\n      <td>https://images.craigslist.org/00z0z_bKnIVGLkDT...</td>\n      <td>Carvana is the safer way to buy a car During t...</td>\n      <td>NaN</td>\n      <td>wy</td>\n      <td>33.786500</td>\n      <td>-84.445400</td>\n      <td>2021-04-04T03:21:11-0600</td>\n    </tr>\n    <tr>\n      <th>426879</th>\n      <td>7301591129</td>\n      <td>https://wyoming.craigslist.org/ctd/d/atlanta-2...</td>\n      <td>wyoming</td>\n      <td>https://wyoming.craigslist.org</td>\n      <td>30590</td>\n      <td>2019.0</td>\n      <td>bmw</td>\n      <td>4 series 430i gran coupe</td>\n      <td>good</td>\n      <td>NaN</td>\n      <td>...</td>\n      <td>NaN</td>\n      <td>coupe</td>\n      <td>NaN</td>\n      <td>https://images.craigslist.org/00Y0Y_lEUocjyRxa...</td>\n      <td>Carvana is the safer way to buy a car During t...</td>\n      <td>NaN</td>\n      <td>wy</td>\n      <td>33.779214</td>\n      <td>-84.411811</td>\n      <td>2021-04-04T03:21:07-0600</td>\n    </tr>\n  </tbody>\n</table>\n<p>5 rows × 26 columns</p>\n</div>"
     },
     "execution_count": 30,
     "metadata": {},
     "output_type": "execute_result"
    }
   ],
   "source": [
    "df.tail()"
   ],
   "metadata": {
    "collapsed": false,
    "ExecuteTime": {
     "start_time": "2023-05-03T01:59:17.496648Z",
     "end_time": "2023-05-03T01:59:17.552163Z"
    }
   }
  },
  {
   "cell_type": "markdown",
   "source": [
    "# Подготовка данных"
   ],
   "metadata": {
    "collapsed": false
   }
  },
  {
   "cell_type": "markdown",
   "source": [
    "### Дропаем явно бесполезные колонки"
   ],
   "metadata": {
    "collapsed": false
   }
  },
  {
   "cell_type": "code",
   "execution_count": 31,
   "outputs": [],
   "source": [
    "df = df.drop(['id', 'url', 'region_url', 'image_url', 'description', 'county', 'VIN', 'lat', 'long', 'title_status'], axis=1)"
   ],
   "metadata": {
    "collapsed": false,
    "ExecuteTime": {
     "start_time": "2023-05-03T01:59:17.527166Z",
     "end_time": "2023-05-03T01:59:17.634254Z"
    }
   }
  },
  {
   "cell_type": "markdown",
   "source": [
    "### Мы также не будем использовать название модели автомобиля, данные об округе (штат оставим) и дату выставления (везде с апреля по май 2021)"
   ],
   "metadata": {
    "collapsed": false
   }
  },
  {
   "cell_type": "code",
   "execution_count": 32,
   "outputs": [],
   "source": [
    "df = df.drop(['model', 'region', 'posting_date'], axis=1)\n"
   ],
   "metadata": {
    "collapsed": false,
    "ExecuteTime": {
     "start_time": "2023-05-03T01:59:17.605171Z",
     "end_time": "2023-05-03T01:59:17.735785Z"
    }
   }
  },
  {
   "cell_type": "markdown",
   "source": [
    "### Посмотрим на процент заполнения колонок"
   ],
   "metadata": {
    "collapsed": false
   }
  },
  {
   "cell_type": "code",
   "execution_count": 33,
   "outputs": [
    {
     "data": {
      "text/plain": "price            0.000000\nyear             0.282281\nmanufacturer     4.133714\ncondition       40.785232\ncylinders       41.622470\nfuel             0.705819\nodometer         1.030735\ntransmission     0.598763\ndrive           30.586347\nsize            71.767476\ntype            21.752717\npaint_color     30.501078\nstate            0.000000\ndtype: float64"
     },
     "execution_count": 33,
     "metadata": {},
     "output_type": "execute_result"
    }
   ],
   "source": [
    "df.isna().sum() / df.shape[0] * 100.00"
   ],
   "metadata": {
    "collapsed": false,
    "ExecuteTime": {
     "start_time": "2023-05-03T01:59:17.688259Z",
     "end_time": "2023-05-03T01:59:18.426486Z"
    }
   }
  },
  {
   "cell_type": "markdown",
   "source": [
    "### Попытаемся заполнить недостающие данные, будем изучать самые частые значения и смотреть на гистограммы"
   ],
   "metadata": {
    "collapsed": false
   }
  },
  {
   "cell_type": "code",
   "execution_count": 34,
   "outputs": [
    {
     "data": {
      "text/plain": "good         0.28\nexcellent    0.24\nlike new     0.05\nfair         0.02\nnew           0.0\nsalvage       0.0\nName: condition, dtype: object"
     },
     "execution_count": 34,
     "metadata": {},
     "output_type": "execute_result"
    }
   ],
   "source": [
    "col = 'condition'\n",
    "res = df[col].value_counts().head(10)\n",
    "res.apply(lambda x: str(round(x / 426880, 2)))"
   ],
   "metadata": {
    "collapsed": false,
    "ExecuteTime": {
     "start_time": "2023-05-03T01:59:18.429484Z",
     "end_time": "2023-05-03T01:59:18.476488Z"
    }
   }
  },
  {
   "cell_type": "code",
   "execution_count": 35,
   "outputs": [
    {
     "data": {
      "text/plain": "automatic    0.79\nother        0.15\nmanual       0.06\nName: transmission, dtype: object"
     },
     "execution_count": 35,
     "metadata": {},
     "output_type": "execute_result"
    }
   ],
   "source": [
    "col = 'transmission'\n",
    "res = df[col].value_counts().head(10)\n",
    "res.apply(lambda x: str(round(x / 426880, 2)))"
   ],
   "metadata": {
    "collapsed": false,
    "ExecuteTime": {
     "start_time": "2023-05-03T01:59:18.512501Z",
     "end_time": "2023-05-03T01:59:18.523031Z"
    }
   }
  },
  {
   "cell_type": "code",
   "execution_count": 36,
   "outputs": [
    {
     "data": {
      "text/plain": "automatic    0.79\nother        0.15\nmanual       0.06\nName: transmission, dtype: object"
     },
     "execution_count": 36,
     "metadata": {},
     "output_type": "execute_result"
    }
   ],
   "source": [
    "col = 'transmission'\n",
    "res = df[col].value_counts().head(10)\n",
    "res.apply(lambda x: str(round(x / 426880, 2)))"
   ],
   "metadata": {
    "collapsed": false,
    "ExecuteTime": {
     "start_time": "2023-05-03T01:59:18.563028Z",
     "end_time": "2023-05-03T01:59:18.596463Z"
    }
   }
  },
  {
   "cell_type": "code",
   "execution_count": 37,
   "outputs": [
    {
     "data": {
      "text/plain": "<Figure size 640x480 with 1 Axes>",
      "image/png": "[encoded data removed]"
     },
     "metadata": {},
     "output_type": "display_data"
    }
   ],
   "source": [
    "col = 'year'\n",
    "res = df[col].value_counts().head(10)\n",
    "res.apply(lambda x: str(round(x / 426880, 2)))\n",
    "df[col].hist(bins=100)\n",
    "plt.show()"
   ],
   "metadata": {
    "collapsed": false,
    "ExecuteTime": {
     "start_time": "2023-05-03T01:59:18.572029Z",
     "end_time": "2023-05-03T01:59:18.933166Z"
    }
   }
  },
  {
   "cell_type": "code",
   "execution_count": 38,
   "outputs": [
    {
     "data": {
      "text/plain": "full-size      0.15\nmid-size       0.08\ncompact        0.05\nsub-compact    0.01\nName: size, dtype: object"
     },
     "execution_count": 38,
     "metadata": {},
     "output_type": "execute_result"
    }
   ],
   "source": [
    "col = 'size'\n",
    "res = df[col].value_counts().head(10)\n",
    "res.apply(lambda x: str(round(x / 426880, 2)))"
   ],
   "metadata": {
    "collapsed": false,
    "ExecuteTime": {
     "start_time": "2023-05-03T01:59:18.936156Z",
     "end_time": "2023-05-03T01:59:19.013179Z"
    }
   }
  },
  {
   "cell_type": "code",
   "execution_count": 39,
   "outputs": [
    {
     "data": {
      "text/plain": "<Figure size 640x480 with 1 Axes>",
      "image/png": "[encoded data removed]"
     },
     "metadata": {},
     "output_type": "display_data"
    },
    {
     "data": {
      "text/plain": "0    full-size\nName: size, dtype: object"
     },
     "execution_count": 39,
     "metadata": {},
     "output_type": "execute_result"
    }
   ],
   "source": [
    "df[col].hist(bins=100)\n",
    "plt.show()\n",
    "df[col].mode()"
   ],
   "metadata": {
    "collapsed": false,
    "ExecuteTime": {
     "start_time": "2023-05-03T01:59:18.966166Z",
     "end_time": "2023-05-03T01:59:19.314263Z"
    }
   }
  },
  {
   "cell_type": "code",
   "execution_count": 40,
   "outputs": [
    {
     "data": {
      "text/plain": "<Figure size 640x480 with 1 Axes>",
      "image/png": "[encoded data removed]"
     },
     "metadata": {},
     "output_type": "display_data"
    }
   ],
   "source": [
    "col = 'drive'\n",
    "res = df[col].value_counts().head(10)\n",
    "res.apply(lambda x: str(round(x / 426880, 2)))\n",
    "df[col].hist(bins=100)\n",
    "plt.show()"
   ],
   "metadata": {
    "collapsed": false,
    "ExecuteTime": {
     "start_time": "2023-05-03T01:59:19.317286Z",
     "end_time": "2023-05-03T01:59:19.722055Z"
    }
   }
  },
  {
   "cell_type": "code",
   "execution_count": 41,
   "outputs": [
    {
     "data": {
      "text/plain": "0    4wd\nName: drive, dtype: object"
     },
     "execution_count": 41,
     "metadata": {},
     "output_type": "execute_result"
    }
   ],
   "source": [
    "df[col].mode()"
   ],
   "metadata": {
    "collapsed": false,
    "ExecuteTime": {
     "start_time": "2023-05-03T01:59:19.753057Z",
     "end_time": "2023-05-03T01:59:19.799579Z"
    }
   }
  },
  {
   "cell_type": "code",
   "execution_count": 42,
   "outputs": [
    {
     "data": {
      "text/plain": "<Figure size 640x480 with 1 Axes>",
      "image/png": "[encoded data removed]"
     },
     "metadata": {},
     "output_type": "display_data"
    }
   ],
   "source": [
    "col = 'cylinders'\n",
    "res = df[col].value_counts().head(10)\n",
    "res.apply(lambda x: str(round(x / 426880, 2)))\n",
    "df[col].hist(bins=100)\n",
    "plt.show()"
   ],
   "metadata": {
    "collapsed": false,
    "ExecuteTime": {
     "start_time": "2023-05-03T01:59:19.802770Z",
     "end_time": "2023-05-03T01:59:20.216732Z"
    }
   }
  },
  {
   "cell_type": "code",
   "execution_count": 43,
   "outputs": [
    {
     "data": {
      "text/plain": "(98043.33144290854, 85548.0)"
     },
     "execution_count": 43,
     "metadata": {},
     "output_type": "execute_result"
    }
   ],
   "source": [
    "col = 'odometer'\n",
    "df[col].mean(), df[col].median()"
   ],
   "metadata": {
    "collapsed": false,
    "ExecuteTime": {
     "start_time": "2023-05-03T01:59:20.199249Z",
     "end_time": "2023-05-03T01:59:20.268259Z"
    }
   }
  },
  {
   "cell_type": "code",
   "execution_count": 44,
   "outputs": [
    {
     "data": {
      "text/plain": "<Figure size 640x480 with 1 Axes>",
      "image/png": "[encoded data removed]"
     },
     "metadata": {},
     "output_type": "display_data"
    }
   ],
   "source": [
    "col = 'paint_color'\n",
    "res = df[col].value_counts().head(10)\n",
    "res.apply(lambda x: str(round(x / 426880, 2)))\n",
    "df[col].hist(bins=100)\n",
    "plt.show()"
   ],
   "metadata": {
    "collapsed": false,
    "ExecuteTime": {
     "start_time": "2023-05-03T01:59:20.231262Z",
     "end_time": "2023-05-03T01:59:20.716359Z"
    }
   }
  },
  {
   "cell_type": "code",
   "execution_count": 45,
   "outputs": [
    {
     "data": {
      "text/plain": "sedan           0.2\nSUV            0.18\npickup          0.1\ntruck          0.08\nother          0.05\ncoupe          0.04\nhatchback      0.04\nwagon          0.03\nvan            0.02\nconvertible    0.02\nName: type, dtype: object"
     },
     "execution_count": 45,
     "metadata": {},
     "output_type": "execute_result"
    }
   ],
   "source": [
    "col = 'type'\n",
    "res = df[col].value_counts().head(10)\n",
    "res.apply(lambda x: str(round(x / 426880, 2)))"
   ],
   "metadata": {
    "collapsed": false,
    "ExecuteTime": {
     "start_time": "2023-05-03T01:59:20.719978Z",
     "end_time": "2023-05-03T01:59:20.808052Z"
    }
   }
  },
  {
   "cell_type": "markdown",
   "source": [
    "### Заменим пропущенные condition на good"
   ],
   "metadata": {
    "collapsed": false
   }
  },
  {
   "cell_type": "code",
   "execution_count": 46,
   "outputs": [],
   "source": [
    "df['condition'].fillna('good', inplace=True)"
   ],
   "metadata": {
    "collapsed": false,
    "ExecuteTime": {
     "start_time": "2023-05-03T01:59:20.765979Z",
     "end_time": "2023-05-03T01:59:20.808052Z"
    }
   }
  },
  {
   "cell_type": "markdown",
   "source": [
    "### Заменим пропущенные transmission на automatic"
   ],
   "metadata": {
    "collapsed": false
   }
  },
  {
   "cell_type": "code",
   "execution_count": 47,
   "outputs": [],
   "source": [
    "df['condition'].fillna('automatic', inplace=True)"
   ],
   "metadata": {
    "collapsed": false,
    "ExecuteTime": {
     "start_time": "2023-05-03T01:59:20.822148Z",
     "end_time": "2023-05-03T01:59:20.844141Z"
    }
   }
  },
  {
   "cell_type": "markdown",
   "source": [
    "### Перейдем к году, среднее значение в данном случае бессмысленно, так что возьмем самое частое значение"
   ],
   "metadata": {
    "collapsed": false
   }
  },
  {
   "cell_type": "code",
   "execution_count": 48,
   "outputs": [],
   "source": [
    "df['year'].fillna(2017, inplace=True)"
   ],
   "metadata": {
    "collapsed": false,
    "ExecuteTime": {
     "start_time": "2023-05-03T01:59:20.832142Z",
     "end_time": "2023-05-03T01:59:20.864180Z"
    }
   }
  },
  {
   "cell_type": "markdown",
   "source": [
    "### Неясно как заменить значения в size, так как пропусков много, дропать строки жалко, а оставшиеся заполнены неравномерно, избавимся от этой колонки. Аналогичная проблема с drive и cylinders."
   ],
   "metadata": {
    "collapsed": false
   }
  },
  {
   "cell_type": "code",
   "execution_count": 49,
   "outputs": [],
   "source": [
    "df = df.drop('size', axis=1)\n",
    "df = df.drop('drive', axis=1)\n",
    "df = df.drop('cylinders', axis=1)"
   ],
   "metadata": {
    "collapsed": false,
    "ExecuteTime": {
     "start_time": "2023-05-03T01:59:20.854179Z",
     "end_time": "2023-05-03T01:59:21.000102Z"
    }
   }
  },
  {
   "cell_type": "markdown",
   "source": [
    "### Для пробега медиана и среднее отличаются не сильно, значит распределение хорошее, заменим на медиану"
   ],
   "metadata": {
    "collapsed": false
   }
  },
  {
   "cell_type": "code",
   "execution_count": 50,
   "outputs": [],
   "source": [
    "df['odometer'].fillna(df['odometer'].median(), inplace=True)"
   ],
   "metadata": {
    "collapsed": false,
    "ExecuteTime": {
     "start_time": "2023-05-03T01:59:21.001102Z",
     "end_time": "2023-05-03T01:59:21.034659Z"
    }
   }
  },
  {
   "cell_type": "markdown",
   "source": [
    "### Заменим цвет на наиболее часто встречающийся белый"
   ],
   "metadata": {
    "collapsed": false
   }
  },
  {
   "cell_type": "code",
   "execution_count": 51,
   "outputs": [],
   "source": [
    "df['paint_color'].fillna('white', inplace=True)"
   ],
   "metadata": {
    "collapsed": false,
    "ExecuteTime": {
     "start_time": "2023-05-03T01:59:21.037656Z",
     "end_time": "2023-05-03T01:59:21.079658Z"
    }
   }
  },
  {
   "cell_type": "markdown",
   "source": [
    "## Посмотрим чего удалось добиться"
   ],
   "metadata": {
    "collapsed": false
   }
  },
  {
   "cell_type": "code",
   "execution_count": 52,
   "outputs": [
    {
     "data": {
      "text/plain": "price            0.000000\nyear             0.000000\nmanufacturer     4.133714\ncondition        0.000000\nfuel             0.705819\nodometer         0.000000\ntransmission     0.598763\ntype            21.752717\npaint_color      0.000000\nstate            0.000000\ndtype: float64"
     },
     "execution_count": 52,
     "metadata": {},
     "output_type": "execute_result"
    }
   ],
   "source": [
    "df.isna().sum() / df.shape[0] * 100.00"
   ],
   "metadata": {
    "collapsed": false,
    "ExecuteTime": {
     "start_time": "2023-05-03T01:59:21.081663Z",
     "end_time": "2023-05-03T01:59:21.539610Z"
    }
   }
  },
  {
   "cell_type": "markdown",
   "source": [
    "## Далее дропнем строки с NaN"
   ],
   "metadata": {
    "collapsed": false
   }
  },
  {
   "cell_type": "code",
   "execution_count": 53,
   "outputs": [
    {
     "data": {
      "text/plain": "        price    year manufacturer condition    fuel  odometer transmission  \\\n426875  23590  2019.0       nissan      good     gas   32226.0        other   \n426876  30590  2020.0        volvo      good     gas   12029.0        other   \n426877  34990  2020.0     cadillac      good  diesel    4174.0        other   \n426878  28990  2018.0        lexus      good     gas   30112.0        other   \n426879  30590  2019.0          bmw      good     gas   22716.0        other   \n\n             type paint_color state  \n426875      sedan       white    wy  \n426876      sedan         red    wy  \n426877  hatchback       white    wy  \n426878      sedan      silver    wy  \n426879      coupe       white    wy  ",
      "text/html": "<div>\n<style scoped>\n    .dataframe tbody tr th:only-of-type {\n        vertical-align: middle;\n    }\n\n    .dataframe tbody tr th {\n        vertical-align: top;\n    }\n\n    .dataframe thead th {\n        text-align: right;\n    }\n</style>\n<table border=\"1\" class=\"dataframe\">\n  <thead>\n    <tr style=\"text-align: right;\">\n      <th></th>\n      <th>price</th>\n      <th>year</th>\n      <th>manufacturer</th>\n      <th>condition</th>\n      <th>fuel</th>\n      <th>odometer</th>\n      <th>transmission</th>\n      <th>type</th>\n      <th>paint_color</th>\n      <th>state</th>\n    </tr>\n  </thead>\n  <tbody>\n    <tr>\n      <th>426875</th>\n      <td>23590</td>\n      <td>2019.0</td>\n      <td>nissan</td>\n      <td>good</td>\n      <td>gas</td>\n      <td>32226.0</td>\n      <td>other</td>\n      <td>sedan</td>\n      <td>white</td>\n      <td>wy</td>\n    </tr>\n    <tr>\n      <th>426876</th>\n      <td>30590</td>\n      <td>2020.0</td>\n      <td>volvo</td>\n      <td>good</td>\n      <td>gas</td>\n      <td>12029.0</td>\n      <td>other</td>\n      <td>sedan</td>\n      <td>red</td>\n      <td>wy</td>\n    </tr>\n    <tr>\n      <th>426877</th>\n      <td>34990</td>\n      <td>2020.0</td>\n      <td>cadillac</td>\n      <td>good</td>\n      <td>diesel</td>\n      <td>4174.0</td>\n      <td>other</td>\n      <td>hatchback</td>\n      <td>white</td>\n      <td>wy</td>\n    </tr>\n    <tr>\n      <th>426878</th>\n      <td>28990</td>\n      <td>2018.0</td>\n      <td>lexus</td>\n      <td>good</td>\n      <td>gas</td>\n      <td>30112.0</td>\n      <td>other</td>\n      <td>sedan</td>\n      <td>silver</td>\n      <td>wy</td>\n    </tr>\n    <tr>\n      <th>426879</th>\n      <td>30590</td>\n      <td>2019.0</td>\n      <td>bmw</td>\n      <td>good</td>\n      <td>gas</td>\n      <td>22716.0</td>\n      <td>other</td>\n      <td>coupe</td>\n      <td>white</td>\n      <td>wy</td>\n    </tr>\n  </tbody>\n</table>\n</div>"
     },
     "execution_count": 53,
     "metadata": {},
     "output_type": "execute_result"
    }
   ],
   "source": [
    "df = df.dropna()\n",
    "df.tail()"
   ],
   "metadata": {
    "collapsed": false,
    "ExecuteTime": {
     "start_time": "2023-05-03T01:59:21.541892Z",
     "end_time": "2023-05-03T01:59:22.060799Z"
    }
   }
  },
  {
   "cell_type": "markdown",
   "source": [
    "# Убедимся что с типами все в порядке"
   ],
   "metadata": {
    "collapsed": false
   }
  },
  {
   "cell_type": "code",
   "execution_count": 54,
   "outputs": [
    {
     "name": "stdout",
     "output_type": "stream",
     "text": [
      "<class 'pandas.core.frame.DataFrame'>\n",
      "Int64Index: 319498 entries, 27 to 426879\n",
      "Data columns (total 10 columns):\n",
      " #   Column        Non-Null Count   Dtype  \n",
      "---  ------        --------------   -----  \n",
      " 0   price         319498 non-null  int64  \n",
      " 1   year          319498 non-null  float64\n",
      " 2   manufacturer  319498 non-null  object \n",
      " 3   condition     319498 non-null  object \n",
      " 4   fuel          319498 non-null  object \n",
      " 5   odometer      319498 non-null  float64\n",
      " 6   transmission  319498 non-null  object \n",
      " 7   type          319498 non-null  object \n",
      " 8   paint_color   319498 non-null  object \n",
      " 9   state         319498 non-null  object \n",
      "dtypes: float64(2), int64(1), object(7)\n",
      "memory usage: 26.8+ MB\n"
     ]
    }
   ],
   "source": [
    "df.info()"
   ],
   "metadata": {
    "collapsed": false,
    "ExecuteTime": {
     "start_time": "2023-05-03T01:59:22.063799Z",
     "end_time": "2023-05-03T01:59:22.424599Z"
    }
   }
  },
  {
   "cell_type": "markdown",
   "source": [
    "## Закодируем категориальные переменные"
   ],
   "metadata": {
    "collapsed": false
   }
  },
  {
   "cell_type": "code",
   "execution_count": 55,
   "outputs": [
    {
     "data": {
      "text/plain": "    price    year  manufacturer  condition    fuel  odometer  transmission  \\\n27  33590  2014.0         12798     215002  267268   57923.0         59082   \n28  22590  2010.0         40928     215002  267268   71229.0         59082   \n29  39590  2020.0         40928     215002  267268   19160.0         59082   \n30  30990  2017.0         27345     215002  267268   41124.0         59082   \n31  15000  2013.0         52028      82859  267268  128000.0        244504   \n\n     type  paint_color  state  \n27  42246       128692   3445  \n28  42246        27361   3445  \n29  42246        26161   3445  \n30  42246        26161   3445  \n31  33461        56120   3445  ",
      "text/html": "<div>\n<style scoped>\n    .dataframe tbody tr th:only-of-type {\n        vertical-align: middle;\n    }\n\n    .dataframe tbody tr th {\n        vertical-align: top;\n    }\n\n    .dataframe thead th {\n        text-align: right;\n    }\n</style>\n<table border=\"1\" class=\"dataframe\">\n  <thead>\n    <tr style=\"text-align: right;\">\n      <th></th>\n      <th>price</th>\n      <th>year</th>\n      <th>manufacturer</th>\n      <th>condition</th>\n      <th>fuel</th>\n      <th>odometer</th>\n      <th>transmission</th>\n      <th>type</th>\n      <th>paint_color</th>\n      <th>state</th>\n    </tr>\n  </thead>\n  <tbody>\n    <tr>\n      <th>27</th>\n      <td>33590</td>\n      <td>2014.0</td>\n      <td>12798</td>\n      <td>215002</td>\n      <td>267268</td>\n      <td>57923.0</td>\n      <td>59082</td>\n      <td>42246</td>\n      <td>128692</td>\n      <td>3445</td>\n    </tr>\n    <tr>\n      <th>28</th>\n      <td>22590</td>\n      <td>2010.0</td>\n      <td>40928</td>\n      <td>215002</td>\n      <td>267268</td>\n      <td>71229.0</td>\n      <td>59082</td>\n      <td>42246</td>\n      <td>27361</td>\n      <td>3445</td>\n    </tr>\n    <tr>\n      <th>29</th>\n      <td>39590</td>\n      <td>2020.0</td>\n      <td>40928</td>\n      <td>215002</td>\n      <td>267268</td>\n      <td>19160.0</td>\n      <td>59082</td>\n      <td>42246</td>\n      <td>26161</td>\n      <td>3445</td>\n    </tr>\n    <tr>\n      <th>30</th>\n      <td>30990</td>\n      <td>2017.0</td>\n      <td>27345</td>\n      <td>215002</td>\n      <td>267268</td>\n      <td>41124.0</td>\n      <td>59082</td>\n      <td>42246</td>\n      <td>26161</td>\n      <td>3445</td>\n    </tr>\n    <tr>\n      <th>31</th>\n      <td>15000</td>\n      <td>2013.0</td>\n      <td>52028</td>\n      <td>82859</td>\n      <td>267268</td>\n      <td>128000.0</td>\n      <td>244504</td>\n      <td>33461</td>\n      <td>56120</td>\n      <td>3445</td>\n    </tr>\n  </tbody>\n</table>\n</div>"
     },
     "execution_count": 55,
     "metadata": {},
     "output_type": "execute_result"
    }
   ],
   "source": [
    "import category_encoders as ce\n",
    "\n",
    "encoder = ce.CountEncoder()\n",
    "df_num = encoder.fit_transform(df)\n",
    "df_num.head()"
   ],
   "metadata": {
    "collapsed": false,
    "ExecuteTime": {
     "start_time": "2023-05-03T01:59:22.425599Z",
     "end_time": "2023-05-03T01:59:25.516335Z"
    }
   }
  },
  {
   "cell_type": "markdown",
   "source": [
    "## Посмотрим как коррелируют наши величины"
   ],
   "metadata": {
    "collapsed": false
   }
  },
  {
   "cell_type": "code",
   "execution_count": 56,
   "outputs": [
    {
     "data": {
      "text/plain": "<Figure size 1000x1000 with 4 Axes>",
      "image/png": "[encoded data removed]"
     },
     "metadata": {},
     "output_type": "display_data"
    }
   ],
   "source": [
    "def corrplot(df, method=\"pearson\", annot=True, **kwargs):\n",
    "    sns.clustermap(\n",
    "        #select_dtypes([np.number])\n",
    "        df.corr(method),\n",
    "        vmin=-1.0,\n",
    "        vmax=1.0,\n",
    "        cmap=\"icefire\",\n",
    "        method=\"complete\",\n",
    "        annot=annot,\n",
    "        **kwargs,\n",
    "    )\n",
    "\n",
    "\n",
    "corrplot(df_num, annot=None)"
   ],
   "metadata": {
    "collapsed": false,
    "ExecuteTime": {
     "start_time": "2023-05-03T01:59:25.521285Z",
     "end_time": "2023-05-03T01:59:26.500961Z"
    }
   }
  },
  {
   "cell_type": "markdown",
   "source": [
    "### Видим что цена особо ни от чего явно не зависит"
   ],
   "metadata": {
    "collapsed": false
   }
  },
  {
   "cell_type": "code",
   "execution_count": 56,
   "outputs": [],
   "source": [],
   "metadata": {
    "collapsed": false,
    "ExecuteTime": {
     "start_time": "2023-05-03T01:59:26.503965Z",
     "end_time": "2023-05-03T01:59:26.671344Z"
    }
   }
  }
 ],
 "metadata": {
  "kernelspec": {
   "display_name": "Python 3",
   "language": "python",
   "name": "python3"
  },
  "language_info": {
   "codemirror_mode": {
    "name": "ipython",
    "version": 2
   },
   "file_extension": ".py",
   "mimetype": "text/x-python",
   "name": "python",
   "nbconvert_exporter": "python",
   "pygments_lexer": "ipython2",
   "version": "2.7.6"
  }
 },
 "nbformat": 4,
 "nbformat_minor": 0
}
