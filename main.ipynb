{
 "cells": [
  {
   "cell_type": "code",
   "execution_count": 330,
   "metadata": {
    "collapsed": true,
    "ExecuteTime": {
     "end_time": "2023-05-07T14:13:15.208234400Z",
     "start_time": "2023-05-07T14:13:15.003772900Z"
    }
   },
   "outputs": [],
   "source": [
    "import numpy as np\n",
    "import pandas as pd\n",
    "import seaborn as sns\n",
    "import scipy\n",
    "from matplotlib import pyplot as plt"
   ]
  },
  {
   "cell_type": "code",
   "execution_count": 331,
   "metadata": {
    "ExecuteTime": {
     "end_time": "2023-05-07T14:13:47.382544700Z",
     "start_time": "2023-05-07T14:13:15.003772900Z"
    }
   },
   "outputs": [],
   "source": [
    "df = pd.read_csv('vehicles.csv')"
   ]
  },
  {
   "cell_type": "code",
   "execution_count": 332,
   "metadata": {
    "ExecuteTime": {
     "end_time": "2023-05-07T14:13:47.482000200Z",
     "start_time": "2023-05-07T14:13:47.385546200Z"
    }
   },
   "outputs": [
    {
     "data": {
      "text/plain": "                id                                                url   \n426875  7301591192  https://wyoming.craigslist.org/ctd/d/atlanta-2...  \\\n426876  7301591187  https://wyoming.craigslist.org/ctd/d/atlanta-2...   \n426877  7301591147  https://wyoming.craigslist.org/ctd/d/atlanta-2...   \n426878  7301591140  https://wyoming.craigslist.org/ctd/d/atlanta-2...   \n426879  7301591129  https://wyoming.craigslist.org/ctd/d/atlanta-2...   \n\n         region                      region_url  price    year manufacturer   \n426875  wyoming  https://wyoming.craigslist.org  23590  2019.0       nissan  \\\n426876  wyoming  https://wyoming.craigslist.org  30590  2020.0        volvo   \n426877  wyoming  https://wyoming.craigslist.org  34990  2020.0     cadillac   \n426878  wyoming  https://wyoming.craigslist.org  28990  2018.0        lexus   \n426879  wyoming  https://wyoming.craigslist.org  30590  2019.0          bmw   \n\n                           model condition    cylinders  ... size       type   \n426875         maxima s sedan 4d      good  6 cylinders  ...  NaN      sedan  \\\n426876  s60 t5 momentum sedan 4d      good          NaN  ...  NaN      sedan   \n426877          xt4 sport suv 4d      good          NaN  ...  NaN  hatchback   \n426878           es 350 sedan 4d      good  6 cylinders  ...  NaN      sedan   \n426879  4 series 430i gran coupe      good          NaN  ...  NaN      coupe   \n\n       paint_color                                          image_url   \n426875         NaN  https://images.craigslist.org/00o0o_iiraFnHg8q...  \\\n426876         red  https://images.craigslist.org/00x0x_15sbgnxCIS...   \n426877       white  https://images.craigslist.org/00L0L_farM7bxnxR...   \n426878      silver  https://images.craigslist.org/00z0z_bKnIVGLkDT...   \n426879         NaN  https://images.craigslist.org/00Y0Y_lEUocjyRxa...   \n\n                                              description county state   \n426875  Carvana is the safer way to buy a car During t...    NaN    wy  \\\n426876  Carvana is the safer way to buy a car During t...    NaN    wy   \n426877  Carvana is the safer way to buy a car During t...    NaN    wy   \n426878  Carvana is the safer way to buy a car During t...    NaN    wy   \n426879  Carvana is the safer way to buy a car During t...    NaN    wy   \n\n              lat       long              posting_date  \n426875  33.786500 -84.445400  2021-04-04T03:21:31-0600  \n426876  33.786500 -84.445400  2021-04-04T03:21:29-0600  \n426877  33.779214 -84.411811  2021-04-04T03:21:17-0600  \n426878  33.786500 -84.445400  2021-04-04T03:21:11-0600  \n426879  33.779214 -84.411811  2021-04-04T03:21:07-0600  \n\n[5 rows x 26 columns]",
      "text/html": "<div>\n<style scoped>\n    .dataframe tbody tr th:only-of-type {\n        vertical-align: middle;\n    }\n\n    .dataframe tbody tr th {\n        vertical-align: top;\n    }\n\n    .dataframe thead th {\n        text-align: right;\n    }\n</style>\n<table border=\"1\" class=\"dataframe\">\n  <thead>\n    <tr style=\"text-align: right;\">\n      <th></th>\n      <th>id</th>\n      <th>url</th>\n      <th>region</th>\n      <th>region_url</th>\n      <th>price</th>\n      <th>year</th>\n      <th>manufacturer</th>\n      <th>model</th>\n      <th>condition</th>\n      <th>cylinders</th>\n      <th>...</th>\n      <th>size</th>\n      <th>type</th>\n      <th>paint_color</th>\n      <th>image_url</th>\n      <th>description</th>\n      <th>county</th>\n      <th>state</th>\n      <th>lat</th>\n      <th>long</th>\n      <th>posting_date</th>\n    </tr>\n  </thead>\n  <tbody>\n    <tr>\n      <th>426875</th>\n      <td>7301591192</td>\n      <td>https://wyoming.craigslist.org/ctd/d/atlanta-2...</td>\n      <td>wyoming</td>\n      <td>https://wyoming.craigslist.org</td>\n      <td>23590</td>\n      <td>2019.0</td>\n      <td>nissan</td>\n      <td>maxima s sedan 4d</td>\n      <td>good</td>\n      <td>6 cylinders</td>\n      <td>...</td>\n      <td>NaN</td>\n      <td>sedan</td>\n      <td>NaN</td>\n      <td>https://images.craigslist.org/00o0o_iiraFnHg8q...</td>\n      <td>Carvana is the safer way to buy a car During t...</td>\n      <td>NaN</td>\n      <td>wy</td>\n      <td>33.786500</td>\n      <td>-84.445400</td>\n      <td>2021-04-04T03:21:31-0600</td>\n    </tr>\n    <tr>\n      <th>426876</th>\n      <td>7301591187</td>\n      <td>https://wyoming.craigslist.org/ctd/d/atlanta-2...</td>\n      <td>wyoming</td>\n      <td>https://wyoming.craigslist.org</td>\n      <td>30590</td>\n      <td>2020.0</td>\n      <td>volvo</td>\n      <td>s60 t5 momentum sedan 4d</td>\n      <td>good</td>\n      <td>NaN</td>\n      <td>...</td>\n      <td>NaN</td>\n      <td>sedan</td>\n      <td>red</td>\n      <td>https://images.craigslist.org/00x0x_15sbgnxCIS...</td>\n      <td>Carvana is the safer way to buy a car During t...</td>\n      <td>NaN</td>\n      <td>wy</td>\n      <td>33.786500</td>\n      <td>-84.445400</td>\n      <td>2021-04-04T03:21:29-0600</td>\n    </tr>\n    <tr>\n      <th>426877</th>\n      <td>7301591147</td>\n      <td>https://wyoming.craigslist.org/ctd/d/atlanta-2...</td>\n      <td>wyoming</td>\n      <td>https://wyoming.craigslist.org</td>\n      <td>34990</td>\n      <td>2020.0</td>\n      <td>cadillac</td>\n      <td>xt4 sport suv 4d</td>\n      <td>good</td>\n      <td>NaN</td>\n      <td>...</td>\n      <td>NaN</td>\n      <td>hatchback</td>\n      <td>white</td>\n      <td>https://images.craigslist.org/00L0L_farM7bxnxR...</td>\n      <td>Carvana is the safer way to buy a car During t...</td>\n      <td>NaN</td>\n      <td>wy</td>\n      <td>33.779214</td>\n      <td>-84.411811</td>\n      <td>2021-04-04T03:21:17-0600</td>\n    </tr>\n    <tr>\n      <th>426878</th>\n      <td>7301591140</td>\n      <td>https://wyoming.craigslist.org/ctd/d/atlanta-2...</td>\n      <td>wyoming</td>\n      <td>https://wyoming.craigslist.org</td>\n      <td>28990</td>\n      <td>2018.0</td>\n      <td>lexus</td>\n      <td>es 350 sedan 4d</td>\n      <td>good</td>\n      <td>6 cylinders</td>\n      <td>...</td>\n      <td>NaN</td>\n      <td>sedan</td>\n      <td>silver</td>\n      <td>https://images.craigslist.org/00z0z_bKnIVGLkDT...</td>\n      <td>Carvana is the safer way to buy a car During t...</td>\n      <td>NaN</td>\n      <td>wy</td>\n      <td>33.786500</td>\n      <td>-84.445400</td>\n      <td>2021-04-04T03:21:11-0600</td>\n    </tr>\n    <tr>\n      <th>426879</th>\n      <td>7301591129</td>\n      <td>https://wyoming.craigslist.org/ctd/d/atlanta-2...</td>\n      <td>wyoming</td>\n      <td>https://wyoming.craigslist.org</td>\n      <td>30590</td>\n      <td>2019.0</td>\n      <td>bmw</td>\n      <td>4 series 430i gran coupe</td>\n      <td>good</td>\n      <td>NaN</td>\n      <td>...</td>\n      <td>NaN</td>\n      <td>coupe</td>\n      <td>NaN</td>\n      <td>https://images.craigslist.org/00Y0Y_lEUocjyRxa...</td>\n      <td>Carvana is the safer way to buy a car During t...</td>\n      <td>NaN</td>\n      <td>wy</td>\n      <td>33.779214</td>\n      <td>-84.411811</td>\n      <td>2021-04-04T03:21:07-0600</td>\n    </tr>\n  </tbody>\n</table>\n<p>5 rows × 26 columns</p>\n</div>"
     },
     "execution_count": 332,
     "metadata": {},
     "output_type": "execute_result"
    }
   ],
   "source": [
    "df.tail()"
   ]
  },
  {
   "cell_type": "markdown",
   "metadata": {},
   "source": [
    "# Подготовка данных"
   ]
  },
  {
   "cell_type": "markdown",
   "metadata": {},
   "source": [
    "### Дропаем явно бесполезные колонки"
   ]
  },
  {
   "cell_type": "code",
   "execution_count": 333,
   "metadata": {
    "ExecuteTime": {
     "end_time": "2023-05-07T14:13:47.555231400Z",
     "start_time": "2023-05-07T14:13:47.494205800Z"
    }
   },
   "outputs": [],
   "source": [
    "df = df.drop(['id', 'url', 'region_url', 'image_url', 'description', 'county', 'VIN', 'lat', 'long', 'title_status'], axis=1)"
   ]
  },
  {
   "cell_type": "markdown",
   "metadata": {},
   "source": [
    "### Мы также не будем использовать название модели автомобиля, данные об округе (штат оставим) и дату выставления (везде с апреля по май 2021)"
   ]
  },
  {
   "cell_type": "code",
   "execution_count": 334,
   "metadata": {
    "ExecuteTime": {
     "end_time": "2023-05-07T14:13:47.678257600Z",
     "start_time": "2023-05-07T14:13:47.557235Z"
    }
   },
   "outputs": [],
   "source": [
    "df = df.drop(['region', 'posting_date'], axis=1)\n"
   ]
  },
  {
   "cell_type": "markdown",
   "metadata": {},
   "source": [
    "### Посмотрим на процент заполнения колонок"
   ]
  },
  {
   "cell_type": "code",
   "execution_count": 335,
   "metadata": {
    "ExecuteTime": {
     "end_time": "2023-05-07T14:13:47.927919600Z",
     "start_time": "2023-05-07T14:13:47.679766800Z"
    }
   },
   "outputs": [
    {
     "data": {
      "text/plain": "price            0.000000\nyear             0.282281\nmanufacturer     4.133714\nmodel            1.236179\ncondition       40.785232\ncylinders       41.622470\nfuel             0.705819\nodometer         1.030735\ntransmission     0.598763\ndrive           30.586347\nsize            71.767476\ntype            21.752717\npaint_color     30.501078\nstate            0.000000\ndtype: float64"
     },
     "execution_count": 335,
     "metadata": {},
     "output_type": "execute_result"
    }
   ],
   "source": [
    "df.isna().sum() / df.shape[0] * 100.00"
   ]
  },
  {
   "cell_type": "markdown",
   "metadata": {},
   "source": [
    "### Попытаемся заполнить недостающие данные, будем изучать самые частые значения и смотреть на гистограммы"
   ]
  },
  {
   "cell_type": "code",
   "execution_count": 336,
   "metadata": {
    "ExecuteTime": {
     "end_time": "2023-05-07T14:13:48.019500300Z",
     "start_time": "2023-05-07T14:13:47.949834100Z"
    }
   },
   "outputs": [
    {
     "data": {
      "text/plain": "condition\ngood         0.28\nexcellent    0.24\nlike new     0.05\nfair         0.02\nnew           0.0\nsalvage       0.0\nName: count, dtype: object"
     },
     "execution_count": 336,
     "metadata": {},
     "output_type": "execute_result"
    }
   ],
   "source": [
    "col = 'condition'\n",
    "res = df[col].value_counts().head(10)\n",
    "res.apply(lambda x: str(round(x / 426880, 2)))"
   ]
  },
  {
   "cell_type": "code",
   "execution_count": 337,
   "metadata": {
    "ExecuteTime": {
     "end_time": "2023-05-07T14:13:48.086389300Z",
     "start_time": "2023-05-07T14:13:48.016878100Z"
    }
   },
   "outputs": [
    {
     "data": {
      "text/plain": "transmission\nautomatic    0.79\nother        0.15\nmanual       0.06\nName: count, dtype: object"
     },
     "execution_count": 337,
     "metadata": {},
     "output_type": "execute_result"
    }
   ],
   "source": [
    "col = 'transmission'\n",
    "res = df[col].value_counts().head(10)\n",
    "res.apply(lambda x: str(round(x / 426880, 2)))"
   ]
  },
  {
   "cell_type": "code",
   "execution_count": 338,
   "metadata": {
    "ExecuteTime": {
     "end_time": "2023-05-07T14:13:48.177422700Z",
     "start_time": "2023-05-07T14:13:48.082394500Z"
    }
   },
   "outputs": [
    {
     "data": {
      "text/plain": "transmission\nautomatic    0.79\nother        0.15\nmanual       0.06\nName: count, dtype: object"
     },
     "execution_count": 338,
     "metadata": {},
     "output_type": "execute_result"
    }
   ],
   "source": [
    "col = 'transmission'\n",
    "res = df[col].value_counts().head(10)\n",
    "res.apply(lambda x: str(round(x / 426880, 2)))"
   ]
  },
  {
   "cell_type": "code",
   "execution_count": 339,
   "metadata": {
    "ExecuteTime": {
     "end_time": "2023-05-07T14:13:49.002195600Z",
     "start_time": "2023-05-07T14:13:48.175322600Z"
    }
   },
   "outputs": [
    {
     "data": {
      "text/plain": "<Figure size 640x480 with 1 Axes>",
      "image/png": "[encoded data removed]"
     },
     "metadata": {},
     "output_type": "display_data"
    }
   ],
   "source": [
    "col = 'year'\n",
    "res = df[col].value_counts().head(10)\n",
    "res.apply(lambda x: str(round(x / 426880, 2)))\n",
    "df[col].hist(bins=100)\n",
    "plt.show()"
   ]
  },
  {
   "cell_type": "code",
   "execution_count": 340,
   "metadata": {
    "ExecuteTime": {
     "end_time": "2023-05-07T14:13:49.130341900Z",
     "start_time": "2023-05-07T14:13:49.006196Z"
    }
   },
   "outputs": [
    {
     "data": {
      "text/plain": "size\nfull-size      0.15\nmid-size       0.08\ncompact        0.05\nsub-compact    0.01\nName: count, dtype: object"
     },
     "execution_count": 340,
     "metadata": {},
     "output_type": "execute_result"
    }
   ],
   "source": [
    "col = 'size'\n",
    "res = df[col].value_counts().head(10)\n",
    "res.apply(lambda x: str(round(x / 426880, 2)))"
   ]
  },
  {
   "cell_type": "code",
   "execution_count": 341,
   "metadata": {
    "ExecuteTime": {
     "end_time": "2023-05-07T14:13:49.567089900Z",
     "start_time": "2023-05-07T14:13:49.051205200Z"
    }
   },
   "outputs": [
    {
     "data": {
      "text/plain": "<Figure size 640x480 with 1 Axes>",
      "image/png": "[encoded data removed]"
     },
     "metadata": {},
     "output_type": "display_data"
    },
    {
     "data": {
      "text/plain": "0    full-size\nName: size, dtype: object"
     },
     "execution_count": 341,
     "metadata": {},
     "output_type": "execute_result"
    }
   ],
   "source": [
    "df[col].hist(bins=100)\n",
    "plt.show()\n",
    "df[col].mode()"
   ]
  },
  {
   "cell_type": "code",
   "execution_count": 342,
   "metadata": {
    "ExecuteTime": {
     "end_time": "2023-05-07T14:13:50.143028200Z",
     "start_time": "2023-05-07T14:13:49.569596Z"
    }
   },
   "outputs": [
    {
     "data": {
      "text/plain": "<Figure size 640x480 with 1 Axes>",
      "image/png": "[encoded data removed]"
     },
     "metadata": {},
     "output_type": "display_data"
    }
   ],
   "source": [
    "col = 'drive'\n",
    "res = df[col].value_counts().head(10)\n",
    "res.apply(lambda x: str(round(x / 426880, 2)))\n",
    "df[col].hist(bins=100)\n",
    "plt.show()"
   ]
  },
  {
   "cell_type": "code",
   "execution_count": 343,
   "metadata": {
    "ExecuteTime": {
     "end_time": "2023-05-07T14:13:50.247418Z",
     "start_time": "2023-05-07T14:13:50.147028400Z"
    }
   },
   "outputs": [
    {
     "data": {
      "text/plain": "0    4wd\nName: drive, dtype: object"
     },
     "execution_count": 343,
     "metadata": {},
     "output_type": "execute_result"
    }
   ],
   "source": [
    "df[col].mode()"
   ]
  },
  {
   "cell_type": "code",
   "execution_count": 344,
   "metadata": {
    "ExecuteTime": {
     "end_time": "2023-05-07T14:13:50.822277100Z",
     "start_time": "2023-05-07T14:13:50.192789300Z"
    }
   },
   "outputs": [
    {
     "data": {
      "text/plain": "<Figure size 640x480 with 1 Axes>",
      "image/png": "[encoded data removed]"
     },
     "metadata": {},
     "output_type": "display_data"
    }
   ],
   "source": [
    "col = 'cylinders'\n",
    "res = df[col].value_counts().head(10)\n",
    "res.apply(lambda x: str(round(x / 426880, 2)))\n",
    "df[col].hist(bins=100)\n",
    "plt.show()"
   ]
  },
  {
   "cell_type": "code",
   "execution_count": 345,
   "metadata": {
    "ExecuteTime": {
     "end_time": "2023-05-07T14:13:50.939712400Z",
     "start_time": "2023-05-07T14:13:50.826277700Z"
    }
   },
   "outputs": [
    {
     "data": {
      "text/plain": "(98043.33144290854, 85548.0)"
     },
     "execution_count": 345,
     "metadata": {},
     "output_type": "execute_result"
    }
   ],
   "source": [
    "col = 'odometer'\n",
    "df[col].mean(), df[col].median()"
   ]
  },
  {
   "cell_type": "code",
   "execution_count": 346,
   "metadata": {
    "ExecuteTime": {
     "end_time": "2023-05-07T14:13:51.430147500Z",
     "start_time": "2023-05-07T14:13:50.856463Z"
    }
   },
   "outputs": [
    {
     "data": {
      "text/plain": "<Figure size 640x480 with 1 Axes>",
      "image/png": "[encoded data removed]"
     },
     "metadata": {},
     "output_type": "display_data"
    }
   ],
   "source": [
    "col = 'paint_color'\n",
    "res = df[col].value_counts().head(10)\n",
    "res.apply(lambda x: str(round(x / 426880, 2)))\n",
    "df[col].hist(bins=100)\n",
    "plt.show()"
   ]
  },
  {
   "cell_type": "code",
   "execution_count": 347,
   "metadata": {
    "ExecuteTime": {
     "end_time": "2023-05-07T14:13:51.533060800Z",
     "start_time": "2023-05-07T14:13:51.432144900Z"
    }
   },
   "outputs": [
    {
     "data": {
      "text/plain": "type\nsedan           0.2\nSUV            0.18\npickup          0.1\ntruck          0.08\nother          0.05\ncoupe          0.04\nhatchback      0.04\nwagon          0.03\nvan            0.02\nconvertible    0.02\nName: count, dtype: object"
     },
     "execution_count": 347,
     "metadata": {},
     "output_type": "execute_result"
    }
   ],
   "source": [
    "col = 'type'\n",
    "res = df[col].value_counts().head(10)\n",
    "res.apply(lambda x: str(round(x / 426880, 2)))"
   ]
  },
  {
   "cell_type": "markdown",
   "metadata": {},
   "source": [
    "### Заменим пропущенные condition на good"
   ]
  },
  {
   "cell_type": "code",
   "execution_count": 348,
   "metadata": {
    "ExecuteTime": {
     "end_time": "2023-05-07T14:13:51.555257400Z",
     "start_time": "2023-05-07T14:13:51.477046300Z"
    }
   },
   "outputs": [],
   "source": [
    "df['condition'].fillna('good', inplace=True)"
   ]
  },
  {
   "cell_type": "markdown",
   "metadata": {},
   "source": [
    "### Заменим пропущенные transmission на automatic"
   ]
  },
  {
   "cell_type": "code",
   "execution_count": 349,
   "metadata": {
    "ExecuteTime": {
     "end_time": "2023-05-07T14:13:51.613622600Z",
     "start_time": "2023-05-07T14:13:51.557255Z"
    }
   },
   "outputs": [],
   "source": [
    "df['condition'].fillna('automatic', inplace=True)"
   ]
  },
  {
   "cell_type": "markdown",
   "metadata": {},
   "source": [
    "### Перейдем к году, среднее значение в данном случае бессмысленно, так что возьмем самое частое значение"
   ]
  },
  {
   "cell_type": "code",
   "execution_count": 350,
   "metadata": {
    "ExecuteTime": {
     "end_time": "2023-05-07T14:13:51.709086900Z",
     "start_time": "2023-05-07T14:13:51.605104700Z"
    }
   },
   "outputs": [],
   "source": [
    "df['year'].fillna(2017, inplace=True)"
   ]
  },
  {
   "cell_type": "markdown",
   "metadata": {},
   "source": [
    "### Неясно как заменить значения в size, так как пропусков много, дропать строки жалко, а оставшиеся заполнены неравномерно, избавимся от этой колонки. Аналогичная проблема с drive и cylinders."
   ]
  },
  {
   "cell_type": "code",
   "execution_count": 351,
   "metadata": {
    "ExecuteTime": {
     "end_time": "2023-05-07T14:13:51.787951600Z",
     "start_time": "2023-05-07T14:13:51.712367500Z"
    }
   },
   "outputs": [],
   "source": [
    "df = df.drop('size', axis=1)\n",
    "#df = df.drop('drive', axis=1)\n",
    "#df = df.drop('cylinders', axis=1)"
   ]
  },
  {
   "cell_type": "markdown",
   "metadata": {},
   "source": [
    "### Для пробега медиана и среднее отличаются не сильно, значит распределение хорошее, заменим на медиану"
   ]
  },
  {
   "cell_type": "code",
   "execution_count": 352,
   "metadata": {
    "ExecuteTime": {
     "end_time": "2023-05-07T14:13:51.848473Z",
     "start_time": "2023-05-07T14:13:51.791588100Z"
    }
   },
   "outputs": [],
   "source": [
    "df['odometer'].fillna(df['odometer'].median(), inplace=True)"
   ]
  },
  {
   "cell_type": "markdown",
   "metadata": {},
   "source": [
    "### Заменим цвет на наиболее часто встречающийся белый"
   ]
  },
  {
   "cell_type": "code",
   "execution_count": 353,
   "metadata": {
    "ExecuteTime": {
     "end_time": "2023-05-07T14:13:51.941740400Z",
     "start_time": "2023-05-07T14:13:51.853973400Z"
    }
   },
   "outputs": [],
   "source": [
    "#df['paint_color'].fillna('white', inplace=True)\n",
    "df=df.drop('paint_color', axis=1)"
   ]
  },
  {
   "cell_type": "markdown",
   "metadata": {},
   "source": [
    "## Посмотрим чего удалось добиться"
   ]
  },
  {
   "cell_type": "code",
   "execution_count": 354,
   "metadata": {
    "ExecuteTime": {
     "end_time": "2023-05-07T14:13:52.170657400Z",
     "start_time": "2023-05-07T14:13:51.962143700Z"
    }
   },
   "outputs": [
    {
     "data": {
      "text/plain": "price            0.000000\nyear             0.000000\nmanufacturer     4.133714\nmodel            1.236179\ncondition        0.000000\ncylinders       41.622470\nfuel             0.705819\nodometer         0.000000\ntransmission     0.598763\ndrive           30.586347\ntype            21.752717\nstate            0.000000\ndtype: float64"
     },
     "execution_count": 354,
     "metadata": {},
     "output_type": "execute_result"
    }
   ],
   "source": [
    "df.isna().sum() / df.shape[0] * 100.00"
   ]
  },
  {
   "cell_type": "markdown",
   "metadata": {},
   "source": [
    "## Далее дропнем строки с NaN"
   ]
  },
  {
   "cell_type": "code",
   "execution_count": 355,
   "metadata": {
    "ExecuteTime": {
     "end_time": "2023-05-07T14:13:52.659926600Z",
     "start_time": "2023-05-07T14:13:52.168321500Z"
    }
   },
   "outputs": [
    {
     "data": {
      "text/plain": "          price    year manufacturer                  model condition   \n426860  39990.0  2017.0     infiniti  qx80 sport utility 4d      good  \\\n426866  32990.0  2016.0     infiniti  qx80 sport utility 4d      good   \n426874  33590.0  2018.0        lexus        gs 350 sedan 4d      good   \n426875  23590.0  2019.0       nissan      maxima s sedan 4d      good   \n426878  28990.0  2018.0        lexus        es 350 sedan 4d      good   \n\n          cylinders fuel  odometer transmission drive   type state  \n426860  8 cylinders  gas   41664.0    automatic   4wd  other    wy  \n426866  8 cylinders  gas   55612.0    automatic   rwd  other    wy  \n426874  6 cylinders  gas   30814.0    automatic   rwd  sedan    wy  \n426875  6 cylinders  gas   32226.0        other   fwd  sedan    wy  \n426878  6 cylinders  gas   30112.0        other   fwd  sedan    wy  ",
      "text/html": "<div>\n<style scoped>\n    .dataframe tbody tr th:only-of-type {\n        vertical-align: middle;\n    }\n\n    .dataframe tbody tr th {\n        vertical-align: top;\n    }\n\n    .dataframe thead th {\n        text-align: right;\n    }\n</style>\n<table border=\"1\" class=\"dataframe\">\n  <thead>\n    <tr style=\"text-align: right;\">\n      <th></th>\n      <th>price</th>\n      <th>year</th>\n      <th>manufacturer</th>\n      <th>model</th>\n      <th>condition</th>\n      <th>cylinders</th>\n      <th>fuel</th>\n      <th>odometer</th>\n      <th>transmission</th>\n      <th>drive</th>\n      <th>type</th>\n      <th>state</th>\n    </tr>\n  </thead>\n  <tbody>\n    <tr>\n      <th>426860</th>\n      <td>39990.0</td>\n      <td>2017.0</td>\n      <td>infiniti</td>\n      <td>qx80 sport utility 4d</td>\n      <td>good</td>\n      <td>8 cylinders</td>\n      <td>gas</td>\n      <td>41664.0</td>\n      <td>automatic</td>\n      <td>4wd</td>\n      <td>other</td>\n      <td>wy</td>\n    </tr>\n    <tr>\n      <th>426866</th>\n      <td>32990.0</td>\n      <td>2016.0</td>\n      <td>infiniti</td>\n      <td>qx80 sport utility 4d</td>\n      <td>good</td>\n      <td>8 cylinders</td>\n      <td>gas</td>\n      <td>55612.0</td>\n      <td>automatic</td>\n      <td>rwd</td>\n      <td>other</td>\n      <td>wy</td>\n    </tr>\n    <tr>\n      <th>426874</th>\n      <td>33590.0</td>\n      <td>2018.0</td>\n      <td>lexus</td>\n      <td>gs 350 sedan 4d</td>\n      <td>good</td>\n      <td>6 cylinders</td>\n      <td>gas</td>\n      <td>30814.0</td>\n      <td>automatic</td>\n      <td>rwd</td>\n      <td>sedan</td>\n      <td>wy</td>\n    </tr>\n    <tr>\n      <th>426875</th>\n      <td>23590.0</td>\n      <td>2019.0</td>\n      <td>nissan</td>\n      <td>maxima s sedan 4d</td>\n      <td>good</td>\n      <td>6 cylinders</td>\n      <td>gas</td>\n      <td>32226.0</td>\n      <td>other</td>\n      <td>fwd</td>\n      <td>sedan</td>\n      <td>wy</td>\n    </tr>\n    <tr>\n      <th>426878</th>\n      <td>28990.0</td>\n      <td>2018.0</td>\n      <td>lexus</td>\n      <td>es 350 sedan 4d</td>\n      <td>good</td>\n      <td>6 cylinders</td>\n      <td>gas</td>\n      <td>30112.0</td>\n      <td>other</td>\n      <td>fwd</td>\n      <td>sedan</td>\n      <td>wy</td>\n    </tr>\n  </tbody>\n</table>\n</div>"
     },
     "execution_count": 355,
     "metadata": {},
     "output_type": "execute_result"
    }
   ],
   "source": [
    "df.replace(0, np.nan, inplace=True)\n",
    "df = df.dropna()\n",
    "df.tail()"
   ]
  },
  {
   "cell_type": "markdown",
   "metadata": {},
   "source": [
    "# Убедимся что с типами все в порядке"
   ]
  },
  {
   "cell_type": "code",
   "execution_count": 356,
   "metadata": {
    "ExecuteTime": {
     "end_time": "2023-05-07T14:13:52.857239800Z",
     "start_time": "2023-05-07T14:13:52.661938400Z"
    }
   },
   "outputs": [
    {
     "name": "stdout",
     "output_type": "stream",
     "text": [
      "<class 'pandas.core.frame.DataFrame'>\n",
      "Index: 170309 entries, 31 to 426878\n",
      "Data columns (total 12 columns):\n",
      " #   Column        Non-Null Count   Dtype  \n",
      "---  ------        --------------   -----  \n",
      " 0   price         170309 non-null  float64\n",
      " 1   year          170309 non-null  float64\n",
      " 2   manufacturer  170309 non-null  object \n",
      " 3   model         170309 non-null  object \n",
      " 4   condition     170309 non-null  object \n",
      " 5   cylinders     170309 non-null  object \n",
      " 6   fuel          170309 non-null  object \n",
      " 7   odometer      170309 non-null  float64\n",
      " 8   transmission  170309 non-null  object \n",
      " 9   drive         170309 non-null  object \n",
      " 10  type          170309 non-null  object \n",
      " 11  state         170309 non-null  object \n",
      "dtypes: float64(3), object(9)\n",
      "memory usage: 16.9+ MB\n"
     ]
    }
   ],
   "source": [
    "df.info()"
   ]
  },
  {
   "cell_type": "code",
   "execution_count": 357,
   "outputs": [
    {
     "data": {
      "text/plain": "           price    year manufacturer                  model condition   \n426860 -0.000871  2017.0     infiniti  qx80 sport utility 4d      good  \\\n426866 -0.001611  2016.0     infiniti  qx80 sport utility 4d      good   \n426874 -0.001548  2018.0        lexus        gs 350 sedan 4d      good   \n426875 -0.002604  2019.0       nissan      maxima s sedan 4d      good   \n426878 -0.002034  2018.0        lexus        es 350 sedan 4d      good   \n\n          cylinders fuel  odometer transmission drive   type state  \n426860  8 cylinders  gas -0.380279    automatic   4wd  other    wy  \n426866  8 cylinders  gas -0.295180    automatic   rwd  other    wy  \n426874  6 cylinders  gas -0.446478    automatic   rwd  sedan    wy  \n426875  6 cylinders  gas -0.437863        other   fwd  sedan    wy  \n426878  6 cylinders  gas -0.450761        other   fwd  sedan    wy  ",
      "text/html": "<div>\n<style scoped>\n    .dataframe tbody tr th:only-of-type {\n        vertical-align: middle;\n    }\n\n    .dataframe tbody tr th {\n        vertical-align: top;\n    }\n\n    .dataframe thead th {\n        text-align: right;\n    }\n</style>\n<table border=\"1\" class=\"dataframe\">\n  <thead>\n    <tr style=\"text-align: right;\">\n      <th></th>\n      <th>price</th>\n      <th>year</th>\n      <th>manufacturer</th>\n      <th>model</th>\n      <th>condition</th>\n      <th>cylinders</th>\n      <th>fuel</th>\n      <th>odometer</th>\n      <th>transmission</th>\n      <th>drive</th>\n      <th>type</th>\n      <th>state</th>\n    </tr>\n  </thead>\n  <tbody>\n    <tr>\n      <th>426860</th>\n      <td>-0.000871</td>\n      <td>2017.0</td>\n      <td>infiniti</td>\n      <td>qx80 sport utility 4d</td>\n      <td>good</td>\n      <td>8 cylinders</td>\n      <td>gas</td>\n      <td>-0.380279</td>\n      <td>automatic</td>\n      <td>4wd</td>\n      <td>other</td>\n      <td>wy</td>\n    </tr>\n    <tr>\n      <th>426866</th>\n      <td>-0.001611</td>\n      <td>2016.0</td>\n      <td>infiniti</td>\n      <td>qx80 sport utility 4d</td>\n      <td>good</td>\n      <td>8 cylinders</td>\n      <td>gas</td>\n      <td>-0.295180</td>\n      <td>automatic</td>\n      <td>rwd</td>\n      <td>other</td>\n      <td>wy</td>\n    </tr>\n    <tr>\n      <th>426874</th>\n      <td>-0.001548</td>\n      <td>2018.0</td>\n      <td>lexus</td>\n      <td>gs 350 sedan 4d</td>\n      <td>good</td>\n      <td>6 cylinders</td>\n      <td>gas</td>\n      <td>-0.446478</td>\n      <td>automatic</td>\n      <td>rwd</td>\n      <td>sedan</td>\n      <td>wy</td>\n    </tr>\n    <tr>\n      <th>426875</th>\n      <td>-0.002604</td>\n      <td>2019.0</td>\n      <td>nissan</td>\n      <td>maxima s sedan 4d</td>\n      <td>good</td>\n      <td>6 cylinders</td>\n      <td>gas</td>\n      <td>-0.437863</td>\n      <td>other</td>\n      <td>fwd</td>\n      <td>sedan</td>\n      <td>wy</td>\n    </tr>\n    <tr>\n      <th>426878</th>\n      <td>-0.002034</td>\n      <td>2018.0</td>\n      <td>lexus</td>\n      <td>es 350 sedan 4d</td>\n      <td>good</td>\n      <td>6 cylinders</td>\n      <td>gas</td>\n      <td>-0.450761</td>\n      <td>other</td>\n      <td>fwd</td>\n      <td>sedan</td>\n      <td>wy</td>\n    </tr>\n  </tbody>\n</table>\n</div>"
     },
     "execution_count": 357,
     "metadata": {},
     "output_type": "execute_result"
    }
   ],
   "source": [
    "from sklearn.preprocessing import StandardScaler\n",
    "ss = StandardScaler()\n",
    "df['price'] = df['price'].astype(float)\n",
    "df['odometer'] = df['odometer'].astype(float)\n",
    "df.loc[:, 'price'] = ss.fit_transform(df.loc[:, 'price'].values.reshape(-1, 1))\n",
    "df.loc[:, 'odometer'] = ss.fit_transform(df.loc[:, 'odometer'].values.reshape(-1, 1))\n",
    "df.tail()"
   ],
   "metadata": {
    "collapsed": false,
    "ExecuteTime": {
     "end_time": "2023-05-07T14:13:52.885083100Z",
     "start_time": "2023-05-07T14:13:52.742728300Z"
    }
   }
  },
  {
   "cell_type": "markdown",
   "metadata": {},
   "source": [
    "## Закодируем категориальные переменные"
   ]
  },
  {
   "cell_type": "code",
   "execution_count": 358,
   "metadata": {
    "ExecuteTime": {
     "end_time": "2023-05-07T14:13:54.969454900Z",
     "start_time": "2023-05-07T14:13:52.819669400Z"
    }
   },
   "outputs": [
    {
     "data": {
      "text/plain": "       price    year  manufacturer  model  condition  cylinders    fuel   \n31 -0.003512  2013.0         29834    252      56814      62923  153944  \\\n32 -0.002139  2012.0          6910    165      95620      48537  153944   \n33 -0.001442  2016.0         24269    319      95620      62923  153944   \n34 -0.001399  2019.0         15326   1199      56814      62923  153944   \n35 -0.001928  2016.0         24269    282      95620      62923  153944   \n\n    odometer  transmission  drive   type  state  \n31  0.146474        143441  35438  22695   2044  \n32 -0.215352         16059  77114  19301   2044  \n33 -0.454501         16059  77114  19301   2044  \n34 -0.372128        143441  77114  22695   2044  \n35 -0.528917         16059  77114  19301   2044  ",
      "text/html": "<div>\n<style scoped>\n    .dataframe tbody tr th:only-of-type {\n        vertical-align: middle;\n    }\n\n    .dataframe tbody tr th {\n        vertical-align: top;\n    }\n\n    .dataframe thead th {\n        text-align: right;\n    }\n</style>\n<table border=\"1\" class=\"dataframe\">\n  <thead>\n    <tr style=\"text-align: right;\">\n      <th></th>\n      <th>price</th>\n      <th>year</th>\n      <th>manufacturer</th>\n      <th>model</th>\n      <th>condition</th>\n      <th>cylinders</th>\n      <th>fuel</th>\n      <th>odometer</th>\n      <th>transmission</th>\n      <th>drive</th>\n      <th>type</th>\n      <th>state</th>\n    </tr>\n  </thead>\n  <tbody>\n    <tr>\n      <th>31</th>\n      <td>-0.003512</td>\n      <td>2013.0</td>\n      <td>29834</td>\n      <td>252</td>\n      <td>56814</td>\n      <td>62923</td>\n      <td>153944</td>\n      <td>0.146474</td>\n      <td>143441</td>\n      <td>35438</td>\n      <td>22695</td>\n      <td>2044</td>\n    </tr>\n    <tr>\n      <th>32</th>\n      <td>-0.002139</td>\n      <td>2012.0</td>\n      <td>6910</td>\n      <td>165</td>\n      <td>95620</td>\n      <td>48537</td>\n      <td>153944</td>\n      <td>-0.215352</td>\n      <td>16059</td>\n      <td>77114</td>\n      <td>19301</td>\n      <td>2044</td>\n    </tr>\n    <tr>\n      <th>33</th>\n      <td>-0.001442</td>\n      <td>2016.0</td>\n      <td>24269</td>\n      <td>319</td>\n      <td>95620</td>\n      <td>62923</td>\n      <td>153944</td>\n      <td>-0.454501</td>\n      <td>16059</td>\n      <td>77114</td>\n      <td>19301</td>\n      <td>2044</td>\n    </tr>\n    <tr>\n      <th>34</th>\n      <td>-0.001399</td>\n      <td>2019.0</td>\n      <td>15326</td>\n      <td>1199</td>\n      <td>56814</td>\n      <td>62923</td>\n      <td>153944</td>\n      <td>-0.372128</td>\n      <td>143441</td>\n      <td>77114</td>\n      <td>22695</td>\n      <td>2044</td>\n    </tr>\n    <tr>\n      <th>35</th>\n      <td>-0.001928</td>\n      <td>2016.0</td>\n      <td>24269</td>\n      <td>282</td>\n      <td>95620</td>\n      <td>62923</td>\n      <td>153944</td>\n      <td>-0.528917</td>\n      <td>16059</td>\n      <td>77114</td>\n      <td>19301</td>\n      <td>2044</td>\n    </tr>\n  </tbody>\n</table>\n</div>"
     },
     "execution_count": 358,
     "metadata": {},
     "output_type": "execute_result"
    }
   ],
   "source": [
    "import category_encoders as ce\n",
    "\n",
    "encoder = ce.CountEncoder()\n",
    "df_num = encoder.fit_transform(df)\n",
    "df_num.head()"
   ]
  },
  {
   "cell_type": "markdown",
   "metadata": {},
   "source": [
    "## Посмотрим как коррелируют наши величины"
   ]
  },
  {
   "cell_type": "code",
   "execution_count": 359,
   "metadata": {
    "ExecuteTime": {
     "end_time": "2023-05-07T14:13:56.024404500Z",
     "start_time": "2023-05-07T14:13:54.969454900Z"
    }
   },
   "outputs": [
    {
     "data": {
      "text/plain": "<Figure size 1000x1000 with 4 Axes>",
      "image/png": "[encoded data removed]"
     },
     "metadata": {},
     "output_type": "display_data"
    }
   ],
   "source": [
    "def corrplot(df, method=\"pearson\", annot=True, **kwargs):\n",
    "    sns.clustermap(\n",
    "        #select_dtypes([np.number])\n",
    "        df.corr(method),\n",
    "        vmin=-1.0,\n",
    "        vmax=1.0,\n",
    "        cmap=\"icefire\",\n",
    "        method=\"complete\",\n",
    "        annot=annot,\n",
    "        **kwargs,\n",
    "    )\n",
    "\n",
    "\n",
    "corrplot(df_num, annot=None)"
   ]
  },
  {
   "cell_type": "markdown",
   "metadata": {},
   "source": [
    "### Видим что цена особо ни от чего явно не зависит"
   ]
  },
  {
   "cell_type": "code",
   "execution_count": 360,
   "metadata": {
    "ExecuteTime": {
     "end_time": "2023-05-07T14:13:56.035584500Z",
     "start_time": "2023-05-07T14:13:56.026416300Z"
    }
   },
   "outputs": [
    {
     "name": "stdout",
     "output_type": "stream",
     "text": [
      "1.2\n"
     ]
    }
   ],
   "source": [
    "import os\n",
    "np.set_printoptions(precision=4)\n",
    "\n",
    "import catboost\n",
    "print(catboost.__version__)"
   ]
  },
  {
   "cell_type": "code",
   "execution_count": 361,
   "metadata": {
    "ExecuteTime": {
     "end_time": "2023-05-07T14:13:56.242694200Z",
     "start_time": "2023-05-07T14:13:56.037584200Z"
    }
   },
   "outputs": [
    {
     "data": {
      "text/plain": "       price    year manufacturer                        model  condition   \n31 -0.003512  2013.0         ford                    f-150 xlt  excellent  \\\n32 -0.002139  2012.0          gmc  sierra 2500 hd extended cab       good   \n33 -0.001442  2016.0    chevrolet        silverado 1500 double       good   \n34 -0.001399  2019.0       toyota                       tacoma  excellent   \n35 -0.001928  2016.0    chevrolet        colorado extended cab       good   \n\n      cylinders fuel  odometer transmission drive    type state  \n31  6 cylinders  gas  0.146474    automatic   rwd   truck    al  \n32  8 cylinders  gas -0.215352        other   4wd  pickup    al  \n33  6 cylinders  gas -0.454501        other   4wd  pickup    al  \n34  6 cylinders  gas -0.372128    automatic   4wd   truck    al  \n35  6 cylinders  gas -0.528917        other   4wd  pickup    al  ",
      "text/html": "<div>\n<style scoped>\n    .dataframe tbody tr th:only-of-type {\n        vertical-align: middle;\n    }\n\n    .dataframe tbody tr th {\n        vertical-align: top;\n    }\n\n    .dataframe thead th {\n        text-align: right;\n    }\n</style>\n<table border=\"1\" class=\"dataframe\">\n  <thead>\n    <tr style=\"text-align: right;\">\n      <th></th>\n      <th>price</th>\n      <th>year</th>\n      <th>manufacturer</th>\n      <th>model</th>\n      <th>condition</th>\n      <th>cylinders</th>\n      <th>fuel</th>\n      <th>odometer</th>\n      <th>transmission</th>\n      <th>drive</th>\n      <th>type</th>\n      <th>state</th>\n    </tr>\n  </thead>\n  <tbody>\n    <tr>\n      <th>31</th>\n      <td>-0.003512</td>\n      <td>2013.0</td>\n      <td>ford</td>\n      <td>f-150 xlt</td>\n      <td>excellent</td>\n      <td>6 cylinders</td>\n      <td>gas</td>\n      <td>0.146474</td>\n      <td>automatic</td>\n      <td>rwd</td>\n      <td>truck</td>\n      <td>al</td>\n    </tr>\n    <tr>\n      <th>32</th>\n      <td>-0.002139</td>\n      <td>2012.0</td>\n      <td>gmc</td>\n      <td>sierra 2500 hd extended cab</td>\n      <td>good</td>\n      <td>8 cylinders</td>\n      <td>gas</td>\n      <td>-0.215352</td>\n      <td>other</td>\n      <td>4wd</td>\n      <td>pickup</td>\n      <td>al</td>\n    </tr>\n    <tr>\n      <th>33</th>\n      <td>-0.001442</td>\n      <td>2016.0</td>\n      <td>chevrolet</td>\n      <td>silverado 1500 double</td>\n      <td>good</td>\n      <td>6 cylinders</td>\n      <td>gas</td>\n      <td>-0.454501</td>\n      <td>other</td>\n      <td>4wd</td>\n      <td>pickup</td>\n      <td>al</td>\n    </tr>\n    <tr>\n      <th>34</th>\n      <td>-0.001399</td>\n      <td>2019.0</td>\n      <td>toyota</td>\n      <td>tacoma</td>\n      <td>excellent</td>\n      <td>6 cylinders</td>\n      <td>gas</td>\n      <td>-0.372128</td>\n      <td>automatic</td>\n      <td>4wd</td>\n      <td>truck</td>\n      <td>al</td>\n    </tr>\n    <tr>\n      <th>35</th>\n      <td>-0.001928</td>\n      <td>2016.0</td>\n      <td>chevrolet</td>\n      <td>colorado extended cab</td>\n      <td>good</td>\n      <td>6 cylinders</td>\n      <td>gas</td>\n      <td>-0.528917</td>\n      <td>other</td>\n      <td>4wd</td>\n      <td>pickup</td>\n      <td>al</td>\n    </tr>\n  </tbody>\n</table>\n</div>"
     },
     "execution_count": 361,
     "metadata": {},
     "output_type": "execute_result"
    }
   ],
   "source": [
    "df.head()"
   ]
  },
  {
   "cell_type": "code",
   "execution_count": 362,
   "metadata": {
    "ExecuteTime": {
     "end_time": "2023-05-07T14:13:56.242694200Z",
     "start_time": "2023-05-07T14:13:56.084616400Z"
    }
   },
   "outputs": [
    {
     "data": {
      "text/plain": "['year',\n 'manufacturer',\n 'model',\n 'condition',\n 'cylinders',\n 'fuel',\n 'odometer',\n 'transmission',\n 'drive',\n 'type',\n 'state']"
     },
     "execution_count": 362,
     "metadata": {},
     "output_type": "execute_result"
    }
   ],
   "source": [
    "target = 'price'\n",
    "features = list(df.columns)\n",
    "features.remove(target)\n",
    "features"
   ]
  },
  {
   "cell_type": "code",
   "execution_count": 363,
   "metadata": {
    "ExecuteTime": {
     "end_time": "2023-05-07T14:13:56.243692300Z",
     "start_time": "2023-05-07T14:13:56.132367300Z"
    }
   },
   "outputs": [],
   "source": [
    "df['year'] = df['year'].astype(str)"
   ]
  },
  {
   "cell_type": "code",
   "execution_count": 364,
   "metadata": {
    "ExecuteTime": {
     "end_time": "2023-05-07T14:13:56.343146600Z",
     "start_time": "2023-05-07T14:13:56.239402800Z"
    }
   },
   "outputs": [],
   "source": [
    "X = df[features]\n",
    "y = df[[target]]"
   ]
  },
  {
   "cell_type": "code",
   "execution_count": 365,
   "metadata": {
    "ExecuteTime": {
     "end_time": "2023-05-07T14:13:57.420082100Z",
     "start_time": "2023-05-07T14:13:56.288995500Z"
    }
   },
   "outputs": [],
   "source": [
    "from sklearn.model_selection import train_test_split\n",
    "from catboost import Pool\n",
    "from sklearn.preprocessing import StandardScaler\n",
    "X_train, X_test, y_train, y_test = train_test_split(X.values, y.values.reshape(-1), train_size=0.8, shuffle=True)\n",
    "\n",
    "ss = StandardScaler()\n",
    "\n",
    "\n",
    "\n",
    "cat_features = list(range(0, X.shape[1]))\n",
    "cat_features.remove(df.columns.get_loc('odometer') - 1)\n",
    "\n",
    "train_pool = Pool(\n",
    "    data = X_train,\n",
    "    label = y_train,\n",
    "    cat_features = cat_features\n",
    ")\n",
    "\n",
    "test_pool = Pool(\n",
    "    data = X_test,\n",
    "    label = y_test,\n",
    "    cat_features = cat_features\n",
    ")"
   ]
  },
  {
   "cell_type": "code",
   "execution_count": 366,
   "metadata": {
    "pycharm": {
     "is_executing": true
    },
    "ExecuteTime": {
     "end_time": "2023-05-07T14:13:57.436011500Z",
     "start_time": "2023-05-07T14:13:57.422092400Z"
    }
   },
   "outputs": [],
   "source": [
    "from catboost import CatBoostRegressor\n",
    "from ipywidgets import Layout\n",
    "from catboost import MetricVisualizer"
   ]
  },
  {
   "cell_type": "code",
   "execution_count": 367,
   "metadata": {
    "pycharm": {
     "is_executing": true
    },
    "ExecuteTime": {
     "end_time": "2023-05-07T14:13:57.479068100Z",
     "start_time": "2023-05-07T14:13:57.437014500Z"
    }
   },
   "outputs": [],
   "source": [
    "model = CatBoostRegressor(iterations=1000,\n",
    "                          learning_rate=0.5,\n",
    "                          cat_features=cat_features,\n",
    "                          loss_function='RMSE',\n",
    "                          task_type='GPU',\n",
    "                          early_stopping_rounds=50,\n",
    "                          max_depth=8,\n",
    ")"
   ]
  },
  {
   "cell_type": "code",
   "execution_count": 368,
   "metadata": {
    "ExecuteTime": {
     "end_time": "2023-05-07T14:14:01.843449400Z",
     "start_time": "2023-05-07T14:13:57.483018700Z"
    }
   },
   "outputs": [
    {
     "name": "stdout",
     "output_type": "stream",
     "text": [
      "0:\tlearn: 1.1117658\ttest: 0.0715499\tbest: 0.0715499 (0)\ttotal: 66.9ms\tremaining: 1m 6s\n",
      "50:\tlearn: 0.6885272\ttest: 0.2612123\tbest: 0.0715499 (0)\ttotal: 2.3s\tremaining: 42.8s\n",
      "bestTest = 0.07154987529\n",
      "bestIteration = 0\n",
      "Shrink model to first 1 iterations.\n"
     ]
    },
    {
     "data": {
      "text/plain": "<catboost.core.CatBoostRegressor at 0x172977057f0>"
     },
     "execution_count": 368,
     "metadata": {},
     "output_type": "execute_result"
    }
   ],
   "source": [
    "model.fit(train_pool,\n",
    "          eval_set=test_pool,\n",
    "          verbose=50,\n",
    "          plot=False,\n",
    ")"
   ]
  },
  {
   "cell_type": "code",
   "execution_count": 369,
   "metadata": {
    "ExecuteTime": {
     "end_time": "2023-05-07T14:14:01.921724800Z",
     "start_time": "2023-05-07T14:14:01.844449700Z"
    }
   },
   "outputs": [
    {
     "name": "stdout",
     "output_type": "stream",
     "text": [
      "<class 'pandas.core.frame.DataFrame'>\n",
      "Index: 170309 entries, 31 to 426878\n",
      "Data columns (total 12 columns):\n",
      " #   Column        Non-Null Count   Dtype  \n",
      "---  ------        --------------   -----  \n",
      " 0   price         170309 non-null  float64\n",
      " 1   year          170309 non-null  object \n",
      " 2   manufacturer  170309 non-null  object \n",
      " 3   model         170309 non-null  object \n",
      " 4   condition     170309 non-null  object \n",
      " 5   cylinders     170309 non-null  object \n",
      " 6   fuel          170309 non-null  object \n",
      " 7   odometer      170309 non-null  float64\n",
      " 8   transmission  170309 non-null  object \n",
      " 9   drive         170309 non-null  object \n",
      " 10  type          170309 non-null  object \n",
      " 11  state         170309 non-null  object \n",
      "dtypes: float64(2), object(10)\n",
      "memory usage: 16.9+ MB\n"
     ]
    }
   ],
   "source": [
    "df.info()"
   ]
  },
  {
   "cell_type": "code",
   "execution_count": 369,
   "metadata": {
    "ExecuteTime": {
     "end_time": "2023-05-07T14:14:01.937814200Z",
     "start_time": "2023-05-07T14:14:01.923730Z"
    }
   },
   "outputs": [],
   "source": []
  }
 ],
 "metadata": {
  "kernelspec": {
   "display_name": "Python 3 (ipykernel)",
   "language": "python",
   "name": "python3"
  },
  "language_info": {
   "codemirror_mode": {
    "name": "ipython",
    "version": 3
   },
   "file_extension": ".py",
   "mimetype": "text/x-python",
   "name": "python",
   "nbconvert_exporter": "python",
   "pygments_lexer": "ipython3",
   "version": "3.8.16"
  }
 },
 "nbformat": 4,
 "nbformat_minor": 1
}
